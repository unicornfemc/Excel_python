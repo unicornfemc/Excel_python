{
 "cells": [
  {
   "cell_type": "code",
   "execution_count": 1,
   "metadata": {},
   "outputs": [],
   "source": [
    "#利用pandas打开excel读取数据"
   ]
  },
  {
   "cell_type": "code",
   "execution_count": 2,
   "metadata": {},
   "outputs": [],
   "source": [
    "import pandas as pd \n",
    "book = 'D:/Alex/学习/Date/元熙自营.xlsx'"
   ]
  },
  {
   "cell_type": "code",
   "execution_count": 3,
   "metadata": {},
   "outputs": [],
   "source": [
    "#显示所有sheet名称"
   ]
  },
  {
   "cell_type": "code",
   "execution_count": 4,
   "metadata": {},
   "outputs": [
    {
     "data": {
      "text/plain": [
       "dict_keys(['持仓', '交易记录', '银转记录'])"
      ]
     },
     "execution_count": 4,
     "metadata": {},
     "output_type": "execute_result"
    }
   ],
   "source": [
    "sheet = pd.read_excel(book,None,)\n",
    "sheet.keys()"
   ]
  },
  {
   "cell_type": "code",
   "execution_count": 5,
   "metadata": {},
   "outputs": [],
   "source": [
    "#打开一个输入的sheet"
   ]
  },
  {
   "cell_type": "code",
   "execution_count": 6,
   "metadata": {},
   "outputs": [
    {
     "name": "stdout",
     "output_type": "stream",
     "text": [
      "请输入sheet名称：银转记录\n",
      "   雪球持仓组合：银转记录 Unnamed: 1 Unnamed: 2  Unnamed: 3\n",
      "0           操作         金额         市场          日期\n",
      "1           转入   50000.00      A股(¥)  2020/05/07\n",
      "2           转入   50000.00      A股(¥)  2020/02/03\n",
      "3           转入    6681.24      A股(¥)  2019/12/30\n",
      "4           转出   32839.00      A股(¥)  2019/11/26\n",
      "5           转入    2000.00      A股(¥)  2019/11/26\n",
      "6           转入   32839.00      A股(¥)  2019/11/25\n",
      "7           转出   70000.00      A股(¥)  2019/11/19\n",
      "8           转入   70000.00      A股(¥)  2019/11/19\n",
      "9           转入  920823.80      A股(¥)  2019/11/18\n",
      "10          转入  449458.75      A股(¥)  2019/11/18\n",
      "11          转出   81358.25      A股(¥)  2019/11/18\n",
      "12          转入  197868.93      A股(¥)  2019/11/18\n"
     ]
    }
   ],
   "source": [
    "sheet_name = input('请输入sheet名称：')\n",
    "读取数据 = pd.read_excel(book,sheet_name,)\n",
    "print(读取数据)"
   ]
  },
  {
   "cell_type": "code",
   "execution_count": 7,
   "metadata": {
    "code_folding": []
   },
   "outputs": [],
   "source": [
    "#将数据保存到一个Excel文件"
   ]
  },
  {
   "cell_type": "code",
   "execution_count": 8,
   "metadata": {},
   "outputs": [],
   "source": [
    "book2 = 'D:/Alex/学习/Date/元熙.xlsx'\n",
    "读取数据.to_excel(book2)"
   ]
  }
 ],
 "metadata": {
  "kernelspec": {
   "display_name": "Python 3",
   "language": "python",
   "name": "python3"
  },
  "language_info": {
   "codemirror_mode": {
    "name": "ipython",
    "version": 3
   },
   "file_extension": ".py",
   "mimetype": "text/x-python",
   "name": "python",
   "nbconvert_exporter": "python",
   "pygments_lexer": "ipython3",
   "version": "3.8.3"
  }
 },
 "nbformat": 4,
 "nbformat_minor": 4
}

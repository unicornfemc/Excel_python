{
 "cells": [
  {
   "cell_type": "markdown",
   "metadata": {},
   "source": [
    "#引入模块"
   ]
  },
  {
   "cell_type": "code",
   "execution_count": 1,
   "metadata": {},
   "outputs": [],
   "source": [
    "import xlwt"
   ]
  },
  {
   "cell_type": "markdown",
   "metadata": {},
   "source": [
    "#创建 excel"
   ]
  },
  {
   "cell_type": "code",
   "execution_count": 2,
   "metadata": {},
   "outputs": [],
   "source": [
    "book = xlwt.Workbook() "
   ]
  },
  {
   "cell_type": "markdown",
   "metadata": {},
   "source": [
    " #创建sheet页"
   ]
  },
  {
   "cell_type": "code",
   "execution_count": 3,
   "metadata": {},
   "outputs": [],
   "source": [
    "sheet = book.add_sheet('sheet1') "
   ]
  },
  {
   "cell_type": "markdown",
   "metadata": {},
   "source": [
    "#编辑表头"
   ]
  },
  {
   "cell_type": "code",
   "execution_count": 4,
   "metadata": {},
   "outputs": [],
   "source": [
    "sheet.write(0,0,'名字') "
   ]
  },
  {
   "cell_type": "markdown",
   "metadata": {},
   "source": [
    "#编辑内容"
   ]
  },
  {
   "cell_type": "code",
   "execution_count": 5,
   "metadata": {},
   "outputs": [],
   "source": [
    "sheet.write(1,1,'119')\n",
    "sheet.write(2,1,'110')"
   ]
  },
  {
   "cell_type": "markdown",
   "metadata": {},
   "source": [
    " #保存下，xlsx也可以保存，但会打不开，使用wps可以打开，使用微软的会打不开  "
   ]
  },
  {
   "cell_type": "code",
   "execution_count": 6,
   "metadata": {},
   "outputs": [],
   "source": [
    "book.save(\"students.xls\") "
   ]
  }
 ],
 "metadata": {
  "kernelspec": {
   "display_name": "Python 3",
   "language": "python",
   "name": "python3"
  },
  "language_info": {
   "codemirror_mode": {
    "name": "ipython",
    "version": 3
   },
   "file_extension": ".py",
   "mimetype": "text/x-python",
   "name": "python",
   "nbconvert_exporter": "python",
   "pygments_lexer": "ipython3",
   "version": "3.8.3"
  }
 },
 "nbformat": 4,
 "nbformat_minor": 4
}

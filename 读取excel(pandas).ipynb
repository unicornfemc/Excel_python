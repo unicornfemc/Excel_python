{
 "cells": [
  {
   "cell_type": "code",
   "execution_count": 9,
   "metadata": {},
   "outputs": [],
   "source": [
    "#利用pandas打开excel读取数据\n",
    "#注意选择打开那个sheet 0 1 2也可以用名车打开"
   ]
  },
  {
   "cell_type": "code",
   "execution_count": 8,
   "metadata": {},
   "outputs": [
    {
     "name": "stdout",
     "output_type": "stream",
     "text": [
      "   雪球持仓组合：交易记录 Unnamed: 1 Unnamed: 2  Unnamed: 3 Unnamed: 4 Unnamed: 5  \\\n",
      "0           名称         代码         类型          日期        成交价         数量   \n",
      "1         龙腾光电   SH688055         卖出  2020/08/19      13.60        500   \n",
      "2         龙腾光电   SH688055         买入  2020/08/17       1.22        500   \n",
      "3         温氏股份   SZ300498         买入  2020/08/05      23.82       4500   \n",
      "4         浙江美大   SZ002677         卖出  2020/07/27      13.57       5400   \n",
      "..         ...        ...        ...         ...        ...        ...   \n",
      "94        双汇发展   SZ000895         买入  2019/01/19      21.73       2200   \n",
      "95        国君转债   SH113013         买入  2019/01/19     107.78       1300   \n",
      "96        光大转债   SH113011         买入  2019/01/19     102.88       1150   \n",
      "97        电气转债   SH113008         买入  2019/01/19      98.28        300   \n",
      "98        无锡转债   SH110043         买入  2019/01/19     100.69       2050   \n",
      "\n",
      "   Unnamed: 6 Unnamed: 7        Unnamed: 8  \n",
      "0          金额         说明                备注  \n",
      "1     6800.00        NaN              打新退出  \n",
      "2      610.00        NaN                新股  \n",
      "3   107190.00        NaN  五年评论roe比例高于市盈率\\n  \n",
      "4    73278.00        NaN       超过roe与市盈率比例  \n",
      "..        ...        ...               ...  \n",
      "94   47799.40        NaN               NaN  \n",
      "95  140110.10        NaN               NaN  \n",
      "96  118313.15        NaN               NaN  \n",
      "97   29484.00        NaN               NaN  \n",
      "98  206404.25        NaN               NaN  \n",
      "\n",
      "[99 rows x 9 columns]\n"
     ]
    }
   ],
   "source": [
    "import pandas as pd \n",
    "路径 = 'D:/Alex/学习/Date/元熙自营.xlsx'\n",
    "读取数据 = pd.read_excel(路径,'交易记录',)\n",
    "print(读取数据)\n"
   ]
  },
  {
   "cell_type": "code",
   "execution_count": null,
   "metadata": {},
   "outputs": [],
   "source": []
  }
 ],
 "metadata": {
  "kernelspec": {
   "display_name": "Python 3",
   "language": "python",
   "name": "python3"
  },
  "language_info": {
   "codemirror_mode": {
    "name": "ipython",
    "version": 3
   },
   "file_extension": ".py",
   "mimetype": "text/x-python",
   "name": "python",
   "nbconvert_exporter": "python",
   "pygments_lexer": "ipython3",
   "version": "3.8.3"
  }
 },
 "nbformat": 4,
 "nbformat_minor": 4
}

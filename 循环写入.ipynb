{
 "cells": [
  {
   "cell_type": "markdown",
   "metadata": {},
   "source": [
    "#引入模块"
   ]
  },
  {
   "cell_type": "code",
   "execution_count": 1,
   "metadata": {},
   "outputs": [],
   "source": [
    "import xlwt"
   ]
  },
  {
   "cell_type": "markdown",
   "metadata": {},
   "source": [
    "#创建 excel"
   ]
  },
  {
   "cell_type": "code",
   "execution_count": 2,
   "metadata": {},
   "outputs": [],
   "source": [
    "book = xlwt.Workbook() "
   ]
  },
  {
   "cell_type": "markdown",
   "metadata": {},
   "source": [
    " #创建sheet页"
   ]
  },
  {
   "cell_type": "code",
   "execution_count": 3,
   "metadata": {},
   "outputs": [],
   "source": [
    "sheet = book.add_sheet('sheet1') "
   ]
  },
  {
   "cell_type": "markdown",
   "metadata": {},
   "source": [
    "#给定文件内容："
   ]
  },
  {
   "cell_type": "code",
   "execution_count": 4,
   "metadata": {},
   "outputs": [],
   "source": [
    "stus= [\n",
    "\n",
    "    ['id', 'name', 'sex', 'age', 'addr', 'grade', 'phone', 'gold'],\n",
    "\n",
    "    [314, '矿泉水', '男', 18, '北京市昌平区', '摩羯座', '18317155663', 14405],\n",
    "\n",
    "    [315, '矿泉水', '女', 27, '上海', '摩羯座', '18317155664', 100],\n",
    "\n",
    "    [5985, '矿泉水', '男', 18, '北京市昌平区', '班级', '18513867663', 100]\n",
    "\n",
    "]"
   ]
  },
  {
   "cell_type": "markdown",
   "metadata": {},
   "source": [
    "#循环写入"
   ]
  },
  {
   "cell_type": "code",
   "execution_count": 5,
   "metadata": {},
   "outputs": [],
   "source": [
    "row = 0\n",
    "#行号\n",
    "\n",
    "for stu in stus:\n",
    "    #控制行\n",
    "\n",
    "    col = 0\n",
    "    #列号\n",
    "\n",
    "    for field in stu:\n",
    "        #控制列的\n",
    "\n",
    "        sheet.write(row,col,field)\n",
    "\n",
    "        col+=1 \n",
    "        #列号\n",
    "\n",
    "    row+=1"
   ]
  },
  {
   "cell_type": "markdown",
   "metadata": {},
   "source": [
    "#保存内容"
   ]
  },
  {
   "cell_type": "code",
   "execution_count": 6,
   "metadata": {},
   "outputs": [],
   "source": [
    "book.save('students.xls')"
   ]
  }
 ],
 "metadata": {
  "kernelspec": {
   "display_name": "Python 3",
   "language": "python",
   "name": "python3"
  },
  "language_info": {
   "codemirror_mode": {
    "name": "ipython",
    "version": 3
   },
   "file_extension": ".py",
   "mimetype": "text/x-python",
   "name": "python",
   "nbconvert_exporter": "python",
   "pygments_lexer": "ipython3",
   "version": "3.8.3"
  }
 },
 "nbformat": 4,
 "nbformat_minor": 4
}
